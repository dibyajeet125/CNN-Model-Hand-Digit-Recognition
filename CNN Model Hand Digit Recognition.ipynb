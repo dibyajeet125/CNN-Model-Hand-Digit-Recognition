{
 "cells": [
  {
   "cell_type": "markdown",
   "id": "3a61dfc3",
   "metadata": {},
   "source": [
    "In this project you will discover how to develop a deep learning model to achieve high performance on the handwritten digit recognition task using the MNIST dataset and build a GUI App based on Tkinter where, you can draw the digits (single as well as multiple) and recognize it straight away by draw a bounding box surrounding each digit.\n",
    "\n",
    "Problem Statement:\n",
    "\n",
    "It is easy for the human to perform a task accurately by practicing it repeatedly and memorizing it for the next time. Human brain can process and analyse images easily. Also, recognize the different elements present in the images.\n",
    "\n",
    "The challenge in handwritten digit recognition is mainly caused by the writing style variations of every single individual. So, it is not easy for the machine to recognize the handwritten digits accurately like the humans do. Hence, robust feature extraction is very important to improve the performance of machines.\n",
    "\n",
    "MNIST Dataset:\n",
    "\n",
    "The MNIST dataset (Modified National Institute of Standards and Technology) is a large dataset of handwritten digits that is widely used for training and testing in the field of machine learning and deep learning.\n",
    "\n",
    "The MNIST dataset contains 60,000 training images and 10,000 testing images of handwritten digits from zero to nine(0 to 9). So, the MNIST dataset has 10 different classes. Each image is represented as a 28×28 matrix where each cell contains grayscale pixel value.\n",
    "\n",
    "Why deep learning?\n",
    "\n",
    "Deep learning is a class of machine learning that uses multiple layers to progressively extract higher level features from the input. Therefore, deep learning reduces the task of developing new feature extractor for every problem. This characteristic of Deep Learning is a major step ahead of traditional Machine Learning.\n",
    "\n",
    "Most modern deep learning models are based on artificial neural networks, specifically, Convolutional Neural Networks (CNN) that we will use in this project."
   ]
  },
  {
   "cell_type": "markdown",
   "id": "edad4fe8",
   "metadata": {},
   "source": [
    "# Import the libraries"
   ]
  },
  {
   "cell_type": "code",
   "execution_count": 5,
   "id": "dd9c811d",
   "metadata": {},
   "outputs": [],
   "source": [
    "#import libraries\n",
    "import keras\n",
    "from keras.datasets import mnist\n",
    "from keras.models import Sequential\n",
    "from keras.layers import Dense\n",
    "from keras.layers import Dropout\n",
    "from keras.layers import Flatten\n",
    "from keras.layers import Conv2D\n",
    "from keras.layers import MaxPooling2D\n",
    "from keras.utils import to_categorical\n",
    "from keras import backend as K\n",
    "import numpy\n",
    "import pandas as pd"
   ]
  },
  {
   "cell_type": "markdown",
   "id": "93898e26",
   "metadata": {},
   "source": [
    "# Load the MNIST dataset"
   ]
  },
  {
   "cell_type": "code",
   "execution_count": 6,
   "id": "4d9f0958",
   "metadata": {},
   "outputs": [],
   "source": [
    "#load dataset directly from keras library\n",
    "(X_train, y_train), (X_test, y_test) = mnist.load_data()"
   ]
  },
  {
   "cell_type": "code",
   "execution_count": 7,
   "id": "518fce98",
   "metadata": {},
   "outputs": [
    {
     "data": {
      "image/png": "[encoded data removed]",
      "text/plain": [
       "<Figure size 640x480 with 6 Axes>"
      ]
     },
     "metadata": {},
     "output_type": "display_data"
    }
   ],
   "source": [
    "#plot first 6 samples of MNIST training dataset as gray scale image\n",
    "import matplotlib.pyplot as plt\n",
    "for i in range(6):\n",
    "    plt.subplot(int('23'+str(i+1)))\n",
    "    plt.imshow(X_train[i],cmap=plt.get_cmap('gray'))"
   ]
  },
  {
   "cell_type": "markdown",
   "id": "b4450f00",
   "metadata": {},
   "source": [
    "# Data Preprocess and Normalize"
   ]
  },
  {
   "cell_type": "markdown",
   "id": "62475091",
   "metadata": {},
   "source": [
    "We know that all images (dataset) are represented as a 28×28 matrix containing grayscale pixel values. According to this, the dimension of the training data is (60000,28,28) but the CNN model will require one more dimension so we need to process the data by reshape the matrix to shape (60000,28,28,1)."
   ]
  },
  {
   "cell_type": "code",
   "execution_count": 8,
   "id": "d91cfccd",
   "metadata": {},
   "outputs": [],
   "source": [
    "#reshape format [samples][width][height][channels]\n",
    "X_train = X_train.reshape(X_train.shape[0], 28, 28, 1).astype('float32')\n",
    "X_test = X_test.reshape(X_test.shape[0], 28, 28, 1).astype('float32')\n",
    "\n",
    "#converts a class vector (integers) to binary class matrix\n",
    "y_train = to_categorical(y_train)\n",
    "y_test = to_categorical(y_test)"
   ]
  },
  {
   "cell_type": "markdown",
   "id": "5131ad61",
   "metadata": {},
   "source": [
    "When using neural network models, It is good to perform some scaling of input values to normalize the pixel values to the range 0 and 1 by dividing each value by the maximum value (Note: The pixel values are gray scale between 0 and 255)."
   ]
  },
  {
   "cell_type": "code",
   "execution_count": 9,
   "id": "392380d7",
   "metadata": {},
   "outputs": [],
   "source": [
    "#normalize inputs\n",
    "X_train = X_train / 255\n",
    "X_test = X_test / 255"
   ]
  },
  {
   "cell_type": "markdown",
   "id": "4d08f78a",
   "metadata": {},
   "source": [
    "# Create the model"
   ]
  },
  {
   "cell_type": "markdown",
   "id": "aa714868",
   "metadata": {},
   "source": [
    "Now we will create a CNN model with a double convolutional layer of the same size 3×3, max pooling layers and fully connected layers. The dropout layer is used to deactivate some of the neurons to reduce overfitting. Finally, the output layer has 10 neurons for the 10 classes. We will then compile the model with the ADAM / ADADELTA optimizer (here Adam)."
   ]
  },
  {
   "cell_type": "markdown",
   "id": "db8cddc0",
   "metadata": {},
   "source": [
    "Convolutional Neural Network (CNN) Model Explanation\n",
    "\n",
    "A Convolutional Neural Network (CNN) is a type of deep learning model commonly used for image recognition and computer vision tasks. It is designed to automatically and adaptively learn spatial hierarchies of features from input data.\n",
    "\n",
    "Mathematical Concept of CNN Model:\n",
    "\n",
    "Convolution Operation:\n",
    "\n",
    "The core operation in a CNN where a filter (kernel) is applied to the input image to extract features.\n",
    "\n",
    "Mathematically, the convolution operation is defined as:\n",
    "\n",
    "S(i,j) = (I*K)(i,j) = ∑_m ∑_n I(m,n).K(i-m,j-n)\n",
    "\n",
    "where,\n",
    "\n",
    "S(i,j) is the output at position (i,j)\n",
    "\n",
    "I is the input image\n",
    "\n",
    "K is the kernel/filter\n",
    "\n",
    "m and n are the indices of the kernel/filter\n",
    "\n",
    "Activation Function (ReLU):\n",
    "\n",
    "ReLU (Rectified Linear Unit) is commonly used in CNNs to introduce non-linearity.\n",
    "\n",
    "Mathematically, ReLU is defined as:\n",
    "\n",
    "f(x)=max(0,x)\n",
    "\n",
    "Pooling Operation:\n",
    "\n",
    "Pooling layers reduce the spatial dimensions of the convolved feature maps.\n",
    "\n",
    "Max pooling is a common pooling technique where the maximum value in a region is retained.\n",
    "\n",
    "Mathematically, max pooling is defined as:\n",
    "\n",
    "Y(i,j)=max_m,n X(i+m,j+n)\n",
    "\n",
    "Dropout technique:\n",
    "\n",
    "Dropout is a regularization technique in neural networks that combats overfitting by randomly deactivating a portion of input units during training, enhancing model generalization and robustness.\n",
    "\n",
    "Flattening:\n",
    "\n",
    "Flattening converts the 2D matrix of features into a vector for input to the fully connected layers.\n",
    "\n",
    "Fully Connected Layers:\n",
    "\n",
    "Dense layers process the flattened features to make predictions.\n",
    "\n",
    "Mathematically, a fully connected layer is defined as:\n",
    "\n",
    "Y = σ(W.X + b)\n",
    "\n",
    "where,\n",
    "\n",
    "Y is the output\n",
    "\n",
    "X is the input\n",
    "\n",
    "W is the weight matrix\n",
    "\n",
    "b is the bias vector\n",
    " \n",
    "σ is the activation function.\n",
    "\n",
    "Softmax Activation:\n",
    "\n",
    "Softmax is used in the output layer to produce probability distributions over the classes.\n",
    "\n",
    "Mathematically, softmax is defined as:\n",
    "\n",
    "P(y=j|X) = e^X_j / ∑_k e^X_k\n",
    " \n",
    "Working Principle of CNN Model:\n",
    "\n",
    "Feature Extraction:\n",
    "\n",
    "CNNs learn hierarchical representations of features through convolution and pooling layers.\n",
    "\n",
    "Classification:\n",
    "\n",
    "Fully connected layers at the end of the network process the extracted features for classification.\n",
    "\n",
    "Training:\n",
    "\n",
    "The model is trained using backpropagation to minimize the loss function (categorical crossentropy) by adjusting the weights with an optimizer (Adam) to improve accuracy.\n",
    "\n",
    "Prediction:\n",
    "\n",
    "Once trained, the model can make predictions on new unseen data by passing it through the network and obtaining class probabilities using the softmax function."
   ]
  },
  {
   "cell_type": "code",
   "execution_count": 15,
   "id": "f991ac12",
   "metadata": {},
   "outputs": [],
   "source": [
    "#define a CNN model\n",
    "def create_model(input_shape, num_classes):\n",
    "    model = Sequential()\n",
    "    model.add(Conv2D(32, kernel_size=(3, 3), activation='relu', input_shape=input_shape))\n",
    "    model.add(Conv2D(64, (3, 3), activation='relu'))\n",
    "    model.add(MaxPooling2D(pool_size=(2, 2)))\n",
    "    model.add(Dropout(0.25))\n",
    "    model.add(Flatten())\n",
    "    model.add(Dense(256, activation='relu'))\n",
    "    model.add(Dropout(0.5))\n",
    "    model.add(Dense(num_classes, activation='softmax'))\n",
    "    model.compile(loss='categorical_crossentropy', optimizer='adam', metrics=['accuracy'])\n",
    "    return model\n",
    "\n",
    "# Define input shape and number of classes\n",
    "input_shape = (28, 28, 1)\n",
    "num_classes = 10\n",
    "\n",
    "# Build the model\n",
    "model = create_model(input_shape, num_classes)"
   ]
  },
  {
   "cell_type": "markdown",
   "id": "c20c4d5c",
   "metadata": {},
   "source": [
    "# Train the model"
   ]
  },
  {
   "cell_type": "markdown",
   "id": "1950f160",
   "metadata": {},
   "source": [
    "The model.fit() function of Keras takes training data, validation data, epochs, and batch size to train the model. It takes some time to train the model depending upon your working environment (CPU or GPU). After completion, we will save the model in the file named as ‘model.h5’ for later use."
   ]
  },
  {
   "cell_type": "code",
   "execution_count": 17,
   "id": "e04c719b",
   "metadata": {},
   "outputs": [
    {
     "name": "stdout",
     "output_type": "stream",
     "text": [
      "Epoch 1/10\n",
      "300/300 - 28s - loss: 0.2376 - accuracy: 0.9261 - val_loss: 0.0576 - val_accuracy: 0.9824 - 28s/epoch - 94ms/step\n",
      "Epoch 2/10\n",
      "300/300 - 27s - loss: 0.0728 - accuracy: 0.9779 - val_loss: 0.0348 - val_accuracy: 0.9886 - 27s/epoch - 89ms/step\n",
      "Epoch 3/10\n",
      "300/300 - 27s - loss: 0.0521 - accuracy: 0.9841 - val_loss: 0.0320 - val_accuracy: 0.9898 - 27s/epoch - 90ms/step\n",
      "Epoch 4/10\n",
      "300/300 - 27s - loss: 0.0404 - accuracy: 0.9872 - val_loss: 0.0328 - val_accuracy: 0.9889 - 27s/epoch - 89ms/step\n",
      "Epoch 5/10\n",
      "300/300 - 27s - loss: 0.0347 - accuracy: 0.9890 - val_loss: 0.0341 - val_accuracy: 0.9898 - 27s/epoch - 90ms/step\n",
      "Epoch 6/10\n",
      "300/300 - 27s - loss: 0.0295 - accuracy: 0.9906 - val_loss: 0.0297 - val_accuracy: 0.9910 - 27s/epoch - 90ms/step\n",
      "Epoch 7/10\n",
      "300/300 - 27s - loss: 0.0253 - accuracy: 0.9918 - val_loss: 0.0312 - val_accuracy: 0.9909 - 27s/epoch - 90ms/step\n",
      "Epoch 8/10\n",
      "300/300 - 27s - loss: 0.0227 - accuracy: 0.9925 - val_loss: 0.0314 - val_accuracy: 0.9912 - 27s/epoch - 90ms/step\n",
      "Epoch 9/10\n",
      "300/300 - 27s - loss: 0.0225 - accuracy: 0.9926 - val_loss: 0.0298 - val_accuracy: 0.9918 - 27s/epoch - 90ms/step\n",
      "Epoch 10/10\n",
      "300/300 - 27s - loss: 0.0176 - accuracy: 0.9943 - val_loss: 0.0281 - val_accuracy: 0.9928 - 27s/epoch - 90ms/step\n",
      "The model has successfully trained\n",
      "The model has successfully saved\n"
     ]
    },
    {
     "name": "stderr",
     "output_type": "stream",
     "text": [
      "C:\\Users\\DELL\\anaconda3\\Lib\\site-packages\\keras\\src\\engine\\training.py:3103: UserWarning: You are saving your model as an HDF5 file via `model.save()`. This file format is considered legacy. We recommend using instead the native Keras format, e.g. `model.save('my_model.keras')`.\n",
      "  saving_api.save_model(\n"
     ]
    }
   ],
   "source": [
    "#fit the model\n",
    "model.fit(X_train, y_train, validation_data=(X_test, y_test), epochs=10, batch_size=200,verbose=2)\n",
    "print(\"The model has successfully trained\")\n",
    "\n",
    "#Save the model\n",
    "model.save(\"mnist.h5\")\n",
    "print(\"The model has successfully saved\")"
   ]
  },
  {
   "cell_type": "markdown",
   "id": "1fd6de6b",
   "metadata": {},
   "source": [
    "# Evaluate the model"
   ]
  },
  {
   "cell_type": "markdown",
   "id": "c5251bf5",
   "metadata": {},
   "source": [
    "To evaluate the performance of our model, we have 10,000 testing images of handwritten digits."
   ]
  },
  {
   "cell_type": "code",
   "execution_count": 18,
   "id": "315a6d40",
   "metadata": {},
   "outputs": [
    {
     "name": "stdout",
     "output_type": "stream",
     "text": [
      "CNN Error: 0.72%\n"
     ]
    }
   ],
   "source": [
    "#Evaluate the model\n",
    "scores = model.evaluate(X_test, y_test, verbose=0)\n",
    "print(\"CNN Error: %.2f%%\" % (100-scores[1]*100))"
   ]
  },
  {
   "cell_type": "code",
   "execution_count": null,
   "id": "abeab2d6",
   "metadata": {},
   "outputs": [],
   "source": []
  }
 ],
 "metadata": {
  "kernelspec": {
   "display_name": "Python 3 (ipykernel)",
   "language": "python",
   "name": "python3"
  },
  "language_info": {
   "codemirror_mode": {
    "name": "ipython",
    "version": 3
   },
   "file_extension": ".py",
   "mimetype": "text/x-python",
   "name": "python",
   "nbconvert_exporter": "python",
   "pygments_lexer": "ipython3",
   "version": "3.11.4"
  }
 },
 "nbformat": 4,
 "nbformat_minor": 5
}
